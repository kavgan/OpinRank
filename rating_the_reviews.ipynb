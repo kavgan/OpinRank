{
 "cells": [
  {
   "cell_type": "markdown",
   "metadata": {},
   "source": [
    "Categorizing positive and Negative Reviews on OpinRank Review Dataset"
   ]
  },
  {
   "cell_type": "code",
   "execution_count": 21,
   "metadata": {},
   "outputs": [],
   "source": [
    "#changing data from tag format into csv data\n",
    "\n",
    "#import BeautifulSoup package\n",
    "\n",
    "from bs4 import BeautifulSoup"
   ]
  },
  {
   "cell_type": "code",
   "execution_count": 22,
   "metadata": {},
   "outputs": [],
   "source": [
    "#data file to load the data\n",
    "data_file = \"2009_audi_/2009_audi_a5\"\n",
    "#csv file to convert data in tag format into csv format\n",
    "csv_file = \"2009_audi_/2009_audi_a5.csv\""
   ]
  },
  {
   "cell_type": "code",
   "execution_count": 23,
   "metadata": {},
   "outputs": [],
   "source": [
    "#loading data from the data file in text format\n",
    "with open(data_file) as txt_file:\n",
    "    data = txt_file.read()\n",
    "#data"
   ]
  },
  {
   "cell_type": "code",
   "execution_count": 24,
   "metadata": {},
   "outputs": [],
   "source": [
    "#using Beautiful soup to get the data into html format\n",
    "soup = BeautifulSoup(data, 'lxml')\n",
    "#print(\"\\nFind and print all the tags:\\n\")\n",
    "#print(soup)\n",
    "\n",
    "#taking list to load the data into csv format\n",
    "csv_data = []\n",
    "#headers for the csv format\n",
    "csv_data.append([\"date\",\"author\",\"text\",\"favorite\"])\n",
    "#finding and printing the data of \"doc\" format\n",
    "for doc_tag in soup.find_all(\"doc\"):\n",
    "    #print(doc_tag)\n",
    "    #loading data in list to append the cummulated data to upper list\n",
    "    raw_data = []\n",
    "    #getting each values for a respective doc tag\n",
    "    raw_data.append(doc_tag.find(\"date\").text)\n",
    "    raw_data.append(doc_tag.find(\"author\").text)\n",
    "    raw_data.append(doc_tag.find(\"text\").text)\n",
    "    raw_data.append(doc_tag.find(\"favorite\").text)\n",
    "    csv_data.append(raw_data)\n",
    "#data in list of lists format\n",
    "#csv_data"
   ]
  },
  {
   "cell_type": "code",
   "execution_count": 25,
   "metadata": {},
   "outputs": [],
   "source": [
    "import csv\n",
    "\n",
    "#function to convert list of lists to csv format\n",
    "def write_csv(file,data):\n",
    "    with open(file, 'w', newline='') as file:\n",
    "        writer = csv.writer(file)\n",
    "        writer.writerows(data)"
   ]
  },
  {
   "cell_type": "code",
   "execution_count": 26,
   "metadata": {},
   "outputs": [],
   "source": [
    "#loading the data into csv format\n",
    "write_csv(csv_file,csv_data)"
   ]
  },
  {
   "cell_type": "code",
   "execution_count": 12,
   "metadata": {},
   "outputs": [],
   "source": [
    "import pandas as pd"
   ]
  },
  {
   "cell_type": "code",
   "execution_count": 27,
   "metadata": {},
   "outputs": [
    {
     "data": {
      "text/html": [
       "<div>\n",
       "<style scoped>\n",
       "    .dataframe tbody tr th:only-of-type {\n",
       "        vertical-align: middle;\n",
       "    }\n",
       "\n",
       "    .dataframe tbody tr th {\n",
       "        vertical-align: top;\n",
       "    }\n",
       "\n",
       "    .dataframe thead th {\n",
       "        text-align: right;\n",
       "    }\n",
       "</style>\n",
       "<table border=\"1\" class=\"dataframe\">\n",
       "  <thead>\n",
       "    <tr style=\"text-align: right;\">\n",
       "      <th></th>\n",
       "      <th>date</th>\n",
       "      <th>author</th>\n",
       "      <th>text</th>\n",
       "      <th>favorite</th>\n",
       "    </tr>\n",
       "  </thead>\n",
       "  <tbody>\n",
       "    <tr>\n",
       "      <th>0</th>\n",
       "      <td>09/27/2009</td>\n",
       "      <td>appetites1</td>\n",
       "      <td>Have all the toys in this car, have driven 700...</td>\n",
       "      <td>smooth &amp; quiet</td>\n",
       "    </tr>\n",
       "    <tr>\n",
       "      <th>1</th>\n",
       "      <td>08/18/2009</td>\n",
       "      <td>Joanne</td>\n",
       "      <td>I've had my 2009 A5 for two months now, and I ...</td>\n",
       "      <td>The lovely black glossy finish. The easy-to-us...</td>\n",
       "    </tr>\n",
       "    <tr>\n",
       "      <th>2</th>\n",
       "      <td>07/13/2009</td>\n",
       "      <td>mgd99</td>\n",
       "      <td>I held onto my 1998 A4 for 11 years, before ge...</td>\n",
       "      <td>Exterior style (German with an Italian flair),...</td>\n",
       "    </tr>\n",
       "    <tr>\n",
       "      <th>3</th>\n",
       "      <td>06/02/2009</td>\n",
       "      <td>Aks</td>\n",
       "      <td>Pros: Led lights, B&amp;O Sound System, Exterior, ...</td>\n",
       "      <td>LED Lights, all wheel drive</td>\n",
       "    </tr>\n",
       "    <tr>\n",
       "      <th>4</th>\n",
       "      <td>06/02/2009</td>\n",
       "      <td>joe in ri</td>\n",
       "      <td>Chose the A5 for its beauty and refinement. No...</td>\n",
       "      <td>side assist, bluetooth and voice command, drop...</td>\n",
       "    </tr>\n",
       "  </tbody>\n",
       "</table>\n",
       "</div>"
      ],
      "text/plain": [
       "         date      author                                               text  \\\n",
       "0  09/27/2009  appetites1  Have all the toys in this car, have driven 700...   \n",
       "1  08/18/2009      Joanne  I've had my 2009 A5 for two months now, and I ...   \n",
       "2  07/13/2009       mgd99  I held onto my 1998 A4 for 11 years, before ge...   \n",
       "3  06/02/2009         Aks  Pros: Led lights, B&O Sound System, Exterior, ...   \n",
       "4  06/02/2009   joe in ri  Chose the A5 for its beauty and refinement. No...   \n",
       "\n",
       "                                            favorite  \n",
       "0                                     smooth & quiet  \n",
       "1  The lovely black glossy finish. The easy-to-us...  \n",
       "2  Exterior style (German with an Italian flair),...  \n",
       "3                        LED Lights, all wheel drive  \n",
       "4  side assist, bluetooth and voice command, drop...  "
      ]
     },
     "execution_count": 27,
     "metadata": {},
     "output_type": "execute_result"
    }
   ],
   "source": [
    "#loading the csv data into dataframe\n",
    "df = pd.read_csv(csv_file)\n",
    "df.head(5)"
   ]
  },
  {
   "cell_type": "code",
   "execution_count": 15,
   "metadata": {},
   "outputs": [
    {
     "name": "stderr",
     "output_type": "stream",
     "text": [
      "[nltk_data] Error loading vader_lexicon: <urlopen error [Errno 110]\n",
      "[nltk_data]     Connection timed out>\n"
     ]
    },
    {
     "data": {
      "text/plain": [
       "False"
      ]
     },
     "execution_count": 15,
     "metadata": {},
     "output_type": "execute_result"
    }
   ],
   "source": [
    "#Using nltk to load the sentiment analyzer\n",
    "import nltk\n",
    "nltk.download('vader_lexicon')"
   ]
  },
  {
   "cell_type": "code",
   "execution_count": 28,
   "metadata": {},
   "outputs": [],
   "source": [
    "#lower and upper thresholds\n",
    "threshold_lower = 0.4\n",
    "threshold_upper = 0.85"
   ]
  },
  {
   "cell_type": "code",
   "execution_count": 31,
   "metadata": {},
   "outputs": [
    {
     "data": {
      "text/html": [
       "<div>\n",
       "<style scoped>\n",
       "    .dataframe tbody tr th:only-of-type {\n",
       "        vertical-align: middle;\n",
       "    }\n",
       "\n",
       "    .dataframe tbody tr th {\n",
       "        vertical-align: top;\n",
       "    }\n",
       "\n",
       "    .dataframe thead th {\n",
       "        text-align: right;\n",
       "    }\n",
       "</style>\n",
       "<table border=\"1\" class=\"dataframe\">\n",
       "  <thead>\n",
       "    <tr style=\"text-align: right;\">\n",
       "      <th></th>\n",
       "      <th>date</th>\n",
       "      <th>author</th>\n",
       "      <th>text</th>\n",
       "      <th>favorite</th>\n",
       "      <th>rating_score</th>\n",
       "      <th>rating</th>\n",
       "    </tr>\n",
       "  </thead>\n",
       "  <tbody>\n",
       "    <tr>\n",
       "      <th>0</th>\n",
       "      <td>09/27/2009</td>\n",
       "      <td>appetites1</td>\n",
       "      <td>Have all the toys in this car, have driven 700...</td>\n",
       "      <td>smooth &amp; quiet</td>\n",
       "      <td>0.8896</td>\n",
       "      <td>Positive</td>\n",
       "    </tr>\n",
       "    <tr>\n",
       "      <th>1</th>\n",
       "      <td>08/18/2009</td>\n",
       "      <td>Joanne</td>\n",
       "      <td>I've had my 2009 A5 for two months now, and I ...</td>\n",
       "      <td>The lovely black glossy finish. The easy-to-us...</td>\n",
       "      <td>0.9667</td>\n",
       "      <td>Positive</td>\n",
       "    </tr>\n",
       "    <tr>\n",
       "      <th>2</th>\n",
       "      <td>07/13/2009</td>\n",
       "      <td>mgd99</td>\n",
       "      <td>I held onto my 1998 A4 for 11 years, before ge...</td>\n",
       "      <td>Exterior style (German with an Italian flair),...</td>\n",
       "      <td>0.9853</td>\n",
       "      <td>Positive</td>\n",
       "    </tr>\n",
       "    <tr>\n",
       "      <th>3</th>\n",
       "      <td>06/02/2009</td>\n",
       "      <td>Aks</td>\n",
       "      <td>Pros: Led lights, B&amp;O Sound System, Exterior, ...</td>\n",
       "      <td>LED Lights, all wheel drive</td>\n",
       "      <td>0.8725</td>\n",
       "      <td>Positive</td>\n",
       "    </tr>\n",
       "    <tr>\n",
       "      <th>4</th>\n",
       "      <td>06/02/2009</td>\n",
       "      <td>joe in ri</td>\n",
       "      <td>Chose the A5 for its beauty and refinement. No...</td>\n",
       "      <td>side assist, bluetooth and voice command, drop...</td>\n",
       "      <td>0.7650</td>\n",
       "      <td>Neutral</td>\n",
       "    </tr>\n",
       "    <tr>\n",
       "      <th>5</th>\n",
       "      <td>06/01/2009</td>\n",
       "      <td>Ted</td>\n",
       "      <td>I am 6'5\" tall and need a car I can fit in. Re...</td>\n",
       "      <td>Interior and Exterior looks, quiet smooth ride...</td>\n",
       "      <td>-0.2467</td>\n",
       "      <td>Negative</td>\n",
       "    </tr>\n",
       "    <tr>\n",
       "      <th>6</th>\n",
       "      <td>05/20/2009</td>\n",
       "      <td>Tommy</td>\n",
       "      <td>After 3 months I still look back at it and smi...</td>\n",
       "      <td>LIGHTS!!!! The sound, it's so clear - the ipod...</td>\n",
       "      <td>0.9694</td>\n",
       "      <td>Positive</td>\n",
       "    </tr>\n",
       "    <tr>\n",
       "      <th>7</th>\n",
       "      <td>04/27/2009</td>\n",
       "      <td>SLINE</td>\n",
       "      <td>It's fun, the roof needs to open, I mean reall...</td>\n",
       "      <td>Styling, S-Line is the only way to go...</td>\n",
       "      <td>-0.1658</td>\n",
       "      <td>Negative</td>\n",
       "    </tr>\n",
       "    <tr>\n",
       "      <th>8</th>\n",
       "      <td>03/22/2009</td>\n",
       "      <td>Laura</td>\n",
       "      <td>The body of this car is by far the best lookin...</td>\n",
       "      <td>Color and style are stunning. I absolutely lov...</td>\n",
       "      <td>0.9878</td>\n",
       "      <td>Positive</td>\n",
       "    </tr>\n",
       "    <tr>\n",
       "      <th>9</th>\n",
       "      <td>03/14/2009</td>\n",
       "      <td>Drew</td>\n",
       "      <td>After 8 months, I am still thrilled with the c...</td>\n",
       "      <td>I-Pod function is seamless with the MMI contro...</td>\n",
       "      <td>0.8689</td>\n",
       "      <td>Positive</td>\n",
       "    </tr>\n",
       "  </tbody>\n",
       "</table>\n",
       "</div>"
      ],
      "text/plain": [
       "         date      author                                               text  \\\n",
       "0  09/27/2009  appetites1  Have all the toys in this car, have driven 700...   \n",
       "1  08/18/2009      Joanne  I've had my 2009 A5 for two months now, and I ...   \n",
       "2  07/13/2009       mgd99  I held onto my 1998 A4 for 11 years, before ge...   \n",
       "3  06/02/2009         Aks  Pros: Led lights, B&O Sound System, Exterior, ...   \n",
       "4  06/02/2009   joe in ri  Chose the A5 for its beauty and refinement. No...   \n",
       "5  06/01/2009         Ted  I am 6'5\" tall and need a car I can fit in. Re...   \n",
       "6  05/20/2009       Tommy  After 3 months I still look back at it and smi...   \n",
       "7  04/27/2009       SLINE  It's fun, the roof needs to open, I mean reall...   \n",
       "8  03/22/2009       Laura  The body of this car is by far the best lookin...   \n",
       "9  03/14/2009        Drew  After 8 months, I am still thrilled with the c...   \n",
       "\n",
       "                                            favorite  rating_score    rating  \n",
       "0                                     smooth & quiet        0.8896  Positive  \n",
       "1  The lovely black glossy finish. The easy-to-us...        0.9667  Positive  \n",
       "2  Exterior style (German with an Italian flair),...        0.9853  Positive  \n",
       "3                        LED Lights, all wheel drive        0.8725  Positive  \n",
       "4  side assist, bluetooth and voice command, drop...        0.7650   Neutral  \n",
       "5  Interior and Exterior looks, quiet smooth ride...       -0.2467  Negative  \n",
       "6  LIGHTS!!!! The sound, it's so clear - the ipod...        0.9694  Positive  \n",
       "7           Styling, S-Line is the only way to go...       -0.1658  Negative  \n",
       "8  Color and style are stunning. I absolutely lov...        0.9878  Positive  \n",
       "9  I-Pod function is seamless with the MMI contro...        0.8689  Positive  "
      ]
     },
     "execution_count": 31,
     "metadata": {},
     "output_type": "execute_result"
    }
   ],
   "source": [
    "#using sentiment analyzer of nltk\n",
    "from nltk.sentiment.vader import SentimentIntensityAnalyzer\n",
    "\n",
    "#loading sentiment Analyzer\n",
    "sid = SentimentIntensityAnalyzer()\n",
    "\n",
    "#storing scores and rating\n",
    "scores = []\n",
    "rating = []\n",
    "\n",
    "#iterating every review\n",
    "for i in df[\"text\"]:\n",
    "    #print(i)\n",
    "    #calculating the sentiment score and comparing threshold\n",
    "    if sid.polarity_scores(i)[\"compound\"] < threshold_lower:\n",
    "        rating.append(\"Negative\")\n",
    "    elif sid.polarity_scores(i)[\"compound\"] < threshold_upper:\n",
    "        rating.append(\"Neutral\")\n",
    "        #print(sid.polarity_scores(i)[\"compound\"])\n",
    "    else:\n",
    "        rating.append(\"Positive\")\n",
    "        #print(sid.polarity_scores(i)[\"compound\"])\n",
    "    #appending scores\n",
    "    scores.append(sid.polarity_scores(i)[\"compound\"])\n",
    "    #print()\n",
    "#print(scores)\n",
    "\n",
    "#loading rating score and rating to dataframe\n",
    "df[\"rating_score\"] = scores\n",
    "df[\"rating\"] = rating\n",
    "df.head(10)"
   ]
  }
 ],
 "metadata": {
  "kernelspec": {
   "display_name": "Python 3",
   "language": "python",
   "name": "python3"
  },
  "language_info": {
   "codemirror_mode": {
    "name": "ipython",
    "version": 3
   },
   "file_extension": ".py",
   "mimetype": "text/x-python",
   "name": "python",
   "nbconvert_exporter": "python",
   "pygments_lexer": "ipython3",
   "version": "3.6.9"
  }
 },
 "nbformat": 4,
 "nbformat_minor": 4
}
